{
 "cells": [
  {
   "cell_type": "markdown",
   "metadata": {},
   "source": [
    "#Problem Set 8 pfb2017"
   ]
  },
  {
   "cell_type": "markdown",
   "metadata": {},
   "source": [
    "####1. Take a mulit-FASTA Python_08.fasta file from user input and calculate the nucleotide composition for each sequence. \n",
    "* Use a datastructure to keep count. \n",
    "* Print out each sequence name and its compostion in this format: seqName\\tA_count\\tT_count\\tG_count\\C_count\n",
    "\n",
    "Here is a handy way to store the information:\n",
    "```\n",
    "seqs[geneName][nucleotide]=count\n",
    "\n",
    "seqs['geneA']['A'] = 2\n",
    "seqs['geneA']['T'] = 3\n",
    "seqs['geneA']['G'] = 3\n",
    "seqs['geneA']['C'] = 1\n",
    "\n",
    "\n",
    "seqs['geneB']['A'] = 1\n",
    "seqs['geneB']['T'] = 5\n",
    "seqs['geneB']['G'] = 2\n",
    "seqs['geneB']['C'] = 2\n",
    "```"
   ]
  },
  {
   "cell_type": "code",
   "execution_count": 7,
   "metadata": {},
   "outputs": [
    {
     "name": "stdout",
     "output_type": "stream",
     "text": [
      "{'c0_g1_i1': {'A': 360, 'T': 370, 'G': 206, 'C': 370}, 'c1_g1_i1': {'A': 149, 'T': 165, 'G': 88, 'C': 165}}\n",
      "c0_g1_i1\t360\t370\t206\t370\n",
      "c1_g1_i1\t149\t165\t88\t165\n"
     ]
    }
   ],
   "source": [
    "### initialize variables \n",
    "dict = {}\n",
    "seq = \"\"\n",
    "### open file\n",
    "fh = open(\"/Users/xdo/Shell/pfb2017/Python_08_test.fasta\", \"r\")\n",
    "\n",
    "### read in file and store into dictionary key=header : value=sequence\n",
    "for line in fh:\n",
    "    line = line.strip()\n",
    "    if line.startswith(\">\"):\n",
    "        header = line.replace(\">\",\"\" ).split()[0] # just grabes gene\n",
    "    \n",
    "        if header not in dict:\n",
    "            dict[header]=seq\n",
    "        seq = \"\"\n",
    "    else:\n",
    "        seq += line\n",
    "        dict[header] = seq\n",
    "\n",
    "### calculate the nt compsition and store into another dictionary\n",
    "### make dictionary of nt comp\n",
    "nested = {}\n",
    "for k, v in dict.items():\n",
    "    count_A = v.count(\"A\")\n",
    "    count_T = v.count(\"T\") \n",
    "    count_G = v.count(\"G\") \n",
    "    count_C = v.count(\"C\") \n",
    "    nt_comp = {\"A\" : count_A, \"T\" : count_T, \"G\" : count_G, \"C\" : count_T}\n",
    "\n",
    "    if k not in nested:\n",
    "        #nested[k] = {\"nt_comp\": nt_comp, \"len\":len(v)} # this will look exactly like the notes dictionary\n",
    "        nested[k] = nt_comp\n",
    "print(nested)\n",
    "for key in nested:\n",
    "    print(key, nested[key][\"A\"], nested[key][\"T\"], nested[key][\"G\"], \n",
    "        nested[key][\"T\"], sep = \"\\t\") # you can put strings on different lines in your code \n"
   ]
  },
  {
   "cell_type": "markdown",
   "metadata": {},
   "source": [
    "I got lazy and didn't want to type in another key, so I only made a dictionary in a dictionary. If you want to make a dictionary in a dictionary in a dictionary like Sofia's example in the notes, do the commented out #nested line instead. "
   ]
  },
  {
   "cell_type": "markdown",
   "metadata": {},
   "source": [
    "####2. Write a script that takes a multi-FASTA file Python_08.fasta from user input and breaks each sequence into codons (every three nucleotides is a codon) in just the first reading frame. Your output should look like this:\n",
    "* seq1-frame-1-codons\n",
    "* CAT GCT TGA GTC"
   ]
  },
  {
   "cell_type": "code",
   "execution_count": 9,
   "metadata": {},
   "outputs": [
    {
     "name": "stdout",
     "output_type": "stream",
     "text": [
      "c0_g1_i1frame-1-codons\n",
      "GAA\tCTC\tCAA\tAAA\tTGA\tAAA\tCAT\tAGT\tAGC\tAAT\tCAA\tAGC\tATC\tCCA\tCTA\tTTT\tTTT\tGTC\tTCT\tCGT\tTTC\tATT\tAGC\tGTT\tGTA\tAAT\tTAC\tTGA\tTAC\tCCT\tACT\tATA\tCCT\tCTA\tCAA\tGGC\tCTT\tTGT\tCAT\tCTT\tTTT\tACT\tCAA\tGTG\tTGA\tAAT\tCAT\tCAC\tTTA\tTTG\tTAT\tGAA\tGGA\tTGA\tGCT\tTTC\tCGT\tTCG\tCTA\tGTT\tTGC\tTGA\tAAA\tGGC\tCTT\tCTG\tCAA\tTAA\tGCT\tCTC\tTAT\tTAT\tCTT\tTAA\tAAA\tAAC\tCTG\tGTT\tCCT\tGGT\tCTT\tCCA\tTTC\tTGC\tTAA\tAAG\tCTG\tTAG\tGGG\tTTT\tTAT\tCAC\tGAG\tATT\tCCC\tGTT\tGGC\tATT\tCTG\tACT\tTAT\tTAA\tAAA\tTGC\tTTA\tCAG\tAAG\tAAA\tTGG\tATT\tCTT\tTAA\tATG\tGTC\tAAA\tTTA\tATA\tCGT\tGGA\tCAG\tATA\tATA\tATC\tCTT\tTAT\tTAG\tATG\tAAA\tTTA\tCGA\tAGC\tCAT\tACA\tGAA\tAAT\tCTT\tCAA\tCTC\tGTT\tTTT\tTTC\tATC\tCGC\tTTC\tTTG\tTAC\tTTC\tTAA\tTGT\tCTA\tGAG\tCAT\tCAG\tTAA\tATG\tGGG\tATC\tCAC\tCGA\tGTC\tAGC\tAAC\tTAT\tTTC\tAAA\tGGT\tACA\tAAC\tAAC\tTTG\tCCC\tGTG\tTAA\tCAG\tAAT\tTGA\tTTC\tATG\tCTG\tCCA\tATA\tTAA\tTTC\tATA\tTTA\tATA\tTTG\tGAG\tAAG\tAAC\tAAA\tGCA\tACG\tAAC\tAGA\tTTA\tAAC\tTTG\tCAA\tCGT\tTGG\tTTG\tGAG\tATT\tATT\tTAC\tTCG\tGAA\tAGG\tCGT\tCTG\tTTG\tATT\tTAG\tCAC\tATT\tTAG\tAAA\tACA\tACG\tCTA\tTTA\tCAG\tAAA\tTTA\tTGG\tCTT\tCTG\tTTA\tTTG\tCAA\tACT\tTAG\tTTG\tAAG\tGGC\tACT\tTCG\tGAA\tGCC\tGAC\tAAA\tATG\tGCT\tCTG\tTTG\tGTT\tTGT\tCAA\tACG\tAAC\tGAA\tCCA\tTCC\tTTC\tTGC\tAAT\tCAG\tCCT\tTTA\tTGC\tCAG\tCAA\tAGG\tCAT\tGTT\tTAT\tGCG\tCAA\tGCA\tTAT\tTGA\tATA\tACT\tCAT\tCAC\tAAT\tACA\tTTA\tATG\tATG\tCGT\tGTT\tTCA\tATT\tATG\tGAA\tAAT\tTTC\tTAG\tGCT\tTAT\tCGC\tTGC\tAAC\tTGG\tCCC\tATA\tAGC\tCTG\tTAT\tCTC\tCTG\tACG\tCCC\tAAG\tTTT\tTGC\tAAA\tAGA\tATA\tATG\tACA\tTTT\tTGA\tAAA\tCAT\tATG\tTTG\tAGA\tATG\tCCA\tAGA\tGCT\tCAT\tTGT\tCTG\tTTT\tTCC\tCCG\tATA\tTAG\tAGG\tCTA\tAGC\tAAG\tCTC\tTCA\tTGG\tAAA\tTCG\tCTA\tATA\tGTG\tTTT\tCGA\tAGT\tAAT\tCGA\tCAG\tGTA\tTTG\tTAT\tCCT\tGGA\tTTA\tATA\tTTA\tGGG\tTGG\tCTC\tATG\tCAT\tGCT\tCGT\tGCA\tATC\tGTA\tACA\tAAT\tATG\tTCT\tTTC\tTTT\tTAC\tGAA\tTTT\tTAA\tCGC\tTTC\tAAT\tATA\tAAT\tCAT\tATT\tTTT\tCCT\tCA\n",
      "c1_g1_i1frame-1-codons\n",
      "ACG\tAAA\tCGT\tTGA\tATT\tGAT\tTTT\tATA\tTCA\tATA\tATA\tTCG\tATC\tATT\tTTT\tATT\tCTA\tTTA\tTTT\tGTT\tTGT\tTTG\tCTT\tGGC\tTTT\tCAT\tCTA\tTTT\tCTA\tCAG\tACT\tATC\tTTT\tCCC\tTAA\tTGT\tCTA\tTTG\tCAA\tAAG\tGAA\tAAA\tATG\tCAT\tTGC\tTTG\tTTG\tCCA\tGCA\tGTT\tATT\tATG\tGCC\tCAT\tTTT\tATC\tCAG\tATG\tGTA\tAAA\tACA\tCTG\tGAG\tTCC\tATT\tTTT\tCAG\tAGC\tTTT\tTAA\tTCC\tCTT\tACA\tATG\tTTT\tTCA\tAAA\tAAG\tCAG\tGTT\tTTA\tACG\tTGC\tAAT\tTCG\tTTT\tCAG\tAAA\tATG\tGCT\tCTT\tACA\tAAT\tTTG\tACG\tATC\tATT\tCCA\tTTG\tAGG\tAGT\tCAA\tAAT\tTAG\tGGG\tACT\tTTG\tAAA\tGAA\tAAG\tTAT\tTTA\tATG\tATA\tAAA\tACG\tACG\tATT\tTTT\tGGA\tCTA\tATC\tTTA\tACA\tATA\tTGA\tAAA\tAGG\tCTT\tCGG\tACA\tTAG\tTTG\tGAA\tAAG\tACT\tATC\tAGC\tTTT\tTAT\tTTG\tTGG\tCAG\tGTG\tGGC\tATG\tCTG\tCGA\tTGT\tTTG\tACT\tTAC\tCCA\tAAG\tCCA\tCGA\tATT\tTAC\tAGG\tCGG\n"
     ]
    }
   ],
   "source": [
    "import sys\n",
    "#to get file from user input\n",
    "fh = open(sys.argv[1])\n",
    "\n",
    "codon_dict ={}\n",
    "outfh = open(\"Python_08.codons-frame-1.nt\", \"w\")\n",
    "\n",
    "for k, v in dict.items():\n",
    "    #make a more descriptive id\n",
    "    header = k+\"frame-1-codons\"\n",
    "    \n",
    "    #break into codons and add to codon_dict key=header, val=[codons]\n",
    "    codon_dict[header] = [v[i:i+3] for i in range(0, len(v), 3)]\n",
    "    \n",
    "    #write to file\n",
    "    outfh.write(header + \"\\n\")\n",
    "    outfh.write(\"\\t\".join(codon_dict[header]))\n",
    "    outfh.write(\"\\n\")\n",
    "    \n",
    "    # print out to stdout\n",
    "    print(header)\n",
    "    print(\"\\t\".join(codon_dict[header]))\n",
    "    \n",
    "#close file\n",
    "outfh.close()"
   ]
  },
  {
   "cell_type": "markdown",
   "metadata": {},
   "source": [
    "I iterated through the dictionary from Q1 using dictionary.iter() so I could set the value to v instead of having to type out dictionary[key] to get the value. "
   ]
  },
  {
   "cell_type": "markdown",
   "metadata": {},
   "source": [
    "####4. Now produce codons in the first three reading frames for each sequence and print out ids and sequence records for each frame and print to a file called 'Python_08.codons-3frames.nt'\n",
    "\n",
    "For example:\n",
    "```\n",
    "seq1-frame-1-codons\n",
    "ATG TTG\n",
    "seq-frame-2-codons\n",
    "TGT TGA\n",
    "```"
   ]
  },
  {
   "cell_type": "code",
   "execution_count": 10,
   "metadata": {},
   "outputs": [
    {
     "name": "stdout",
     "output_type": "stream",
     "text": [
      "c0_g1_i1-frame-1-codons\n",
      "GAA\tCTC\tCAA\tAAA\tTGA\tAAA\tCAT\tAGT\tAGC\tAAT\tCAA\tAGC\tATC\tCCA\tCTA\tTTT\tTTT\tGTC\tTCT\tCGT\tTTC\tATT\tAGC\tGTT\tGTA\tAAT\tTAC\tTGA\tTAC\tCCT\tACT\tATA\tCCT\tCTA\tCAA\tGGC\tCTT\tTGT\tCAT\tCTT\tTTT\tACT\tCAA\tGTG\tTGA\tAAT\tCAT\tCAC\tTTA\tTTG\tTAT\tGAA\tGGA\tTGA\tGCT\tTTC\tCGT\tTCG\tCTA\tGTT\tTGC\tTGA\tAAA\tGGC\tCTT\tCTG\tCAA\tTAA\tGCT\tCTC\tTAT\tTAT\tCTT\tTAA\tAAA\tAAC\tCTG\tGTT\tCCT\tGGT\tCTT\tCCA\tTTC\tTGC\tTAA\tAAG\tCTG\tTAG\tGGG\tTTT\tTAT\tCAC\tGAG\tATT\tCCC\tGTT\tGGC\tATT\tCTG\tACT\tTAT\tTAA\tAAA\tTGC\tTTA\tCAG\tAAG\tAAA\tTGG\tATT\tCTT\tTAA\tATG\tGTC\tAAA\tTTA\tATA\tCGT\tGGA\tCAG\tATA\tATA\tATC\tCTT\tTAT\tTAG\tATG\tAAA\tTTA\tCGA\tAGC\tCAT\tACA\tGAA\tAAT\tCTT\tCAA\tCTC\tGTT\tTTT\tTTC\tATC\tCGC\tTTC\tTTG\tTAC\tTTC\tTAA\tTGT\tCTA\tGAG\tCAT\tCAG\tTAA\tATG\tGGG\tATC\tCAC\tCGA\tGTC\tAGC\tAAC\tTAT\tTTC\tAAA\tGGT\tACA\tAAC\tAAC\tTTG\tCCC\tGTG\tTAA\tCAG\tAAT\tTGA\tTTC\tATG\tCTG\tCCA\tATA\tTAA\tTTC\tATA\tTTA\tATA\tTTG\tGAG\tAAG\tAAC\tAAA\tGCA\tACG\tAAC\tAGA\tTTA\tAAC\tTTG\tCAA\tCGT\tTGG\tTTG\tGAG\tATT\tATT\tTAC\tTCG\tGAA\tAGG\tCGT\tCTG\tTTG\tATT\tTAG\tCAC\tATT\tTAG\tAAA\tACA\tACG\tCTA\tTTA\tCAG\tAAA\tTTA\tTGG\tCTT\tCTG\tTTA\tTTG\tCAA\tACT\tTAG\tTTG\tAAG\tGGC\tACT\tTCG\tGAA\tGCC\tGAC\tAAA\tATG\tGCT\tCTG\tTTG\tGTT\tTGT\tCAA\tACG\tAAC\tGAA\tCCA\tTCC\tTTC\tTGC\tAAT\tCAG\tCCT\tTTA\tTGC\tCAG\tCAA\tAGG\tCAT\tGTT\tTAT\tGCG\tCAA\tGCA\tTAT\tTGA\tATA\tACT\tCAT\tCAC\tAAT\tACA\tTTA\tATG\tATG\tCGT\tGTT\tTCA\tATT\tATG\tGAA\tAAT\tTTC\tTAG\tGCT\tTAT\tCGC\tTGC\tAAC\tTGG\tCCC\tATA\tAGC\tCTG\tTAT\tCTC\tCTG\tACG\tCCC\tAAG\tTTT\tTGC\tAAA\tAGA\tATA\tATG\tACA\tTTT\tTGA\tAAA\tCAT\tATG\tTTG\tAGA\tATG\tCCA\tAGA\tGCT\tCAT\tTGT\tCTG\tTTT\tTCC\tCCG\tATA\tTAG\tAGG\tCTA\tAGC\tAAG\tCTC\tTCA\tTGG\tAAA\tTCG\tCTA\tATA\tGTG\tTTT\tCGA\tAGT\tAAT\tCGA\tCAG\tGTA\tTTG\tTAT\tCCT\tGGA\tTTA\tATA\tTTA\tGGG\tTGG\tCTC\tATG\tCAT\tGCT\tCGT\tGCA\tATC\tGTA\tACA\tAAT\tATG\tTCT\tTTC\tTTT\tTAC\tGAA\tTTT\tTAA\tCGC\tTTC\tAAT\tATA\tAAT\tCAT\tATT\tTTT\tCCT\n",
      "c0_g1_i1-frame-2-codons\n",
      "AAC\tTCC\tAAA\tAAT\tGAA\tAAC\tATA\tGTA\tGCA\tATC\tAAA\tGCA\tTCC\tCAC\tTAT\tTTT\tTTG\tTCT\tCTC\tGTT\tTCA\tTTA\tGCG\tTTG\tTAA\tATT\tACT\tGAT\tACC\tCTA\tCTA\tTAC\tCTC\tTAC\tAAG\tGCC\tTTT\tGTC\tATC\tTTT\tTTA\tCTC\tAAG\tTGT\tGAA\tATC\tATC\tACT\tTAT\tTGT\tATG\tAAG\tGAT\tGAG\tCTT\tTCC\tGTT\tCGC\tTAG\tTTT\tGCT\tGAA\tAAG\tGCC\tTTC\tTGC\tAAT\tAAG\tCTC\tTCT\tATT\tATC\tTTT\tAAA\tAAA\tACC\tTGG\tTTC\tCTG\tGTC\tTTC\tCAT\tTCT\tGCT\tAAA\tAGC\tTGT\tAGG\tGGT\tTTT\tATC\tACG\tAGA\tTTC\tCCG\tTTG\tGCA\tTTC\tTGA\tCTT\tATT\tAAA\tAAT\tGCT\tTAC\tAGA\tAGA\tAAT\tGGA\tTTC\tTTT\tAAA\tTGG\tTCA\tAAT\tTAA\tTAC\tGTG\tGAC\tAGA\tTAA\tTAA\tTCC\tTTT\tATT\tAGA\tTGA\tAAT\tTAC\tGAA\tGCC\tATA\tCAG\tAAA\tATC\tTTC\tAAC\tTCG\tTTT\tTTT\tTCA\tTCC\tGCT\tTCT\tTGT\tACT\tTCT\tAAT\tGTC\tTAG\tAGC\tATC\tAGT\tAAA\tTGG\tGGA\tTCC\tACC\tGAG\tTCA\tGCA\tACT\tATT\tTCA\tAAG\tGTA\tCAA\tACA\tACT\tTGC\tCCG\tTGT\tAAC\tAGA\tATT\tGAT\tTCA\tTGC\tTGC\tCAA\tTAT\tAAT\tTCA\tTAT\tTAA\tTAT\tTGG\tAGA\tAGA\tACA\tAAG\tCAA\tCGA\tACA\tGAT\tTAA\tACT\tTGC\tAAC\tGTT\tGGT\tTGG\tAGA\tTTA\tTTT\tACT\tCGG\tAAA\tGGC\tGTC\tTGT\tTGA\tTTT\tAGC\tACA\tTTT\tAGA\tAAA\tCAA\tCGC\tTAT\tTAC\tAGA\tAAT\tTAT\tGGC\tTTC\tTGT\tTAT\tTGC\tAAA\tCTT\tAGT\tTGA\tAGG\tGCA\tCTT\tCGG\tAAG\tCCG\tACA\tAAA\tTGG\tCTC\tTGT\tTGG\tTTT\tGTC\tAAA\tCGA\tACG\tAAC\tCAT\tCCT\tTCT\tGCA\tATC\tAGC\tCTT\tTAT\tGCC\tAGC\tAAA\tGGC\tATG\tTTT\tATG\tCGC\tAAG\tCAT\tATT\tGAA\tTAA\tCTC\tATC\tACA\tATA\tCAT\tTAA\tTGA\tTGC\tGTG\tTTT\tCAA\tTTA\tTGG\tAAA\tATT\tTCT\tAGG\tCTT\tATC\tGCT\tGCA\tACT\tGGC\tCCA\tTAA\tGCC\tTGT\tATC\tTCC\tTGA\tCGC\tCCA\tAGT\tTTT\tGCA\tAAA\tGAA\tTAA\tTGA\tCAT\tTTT\tGAA\tAAC\tATA\tTGT\tTGA\tGAA\tTGC\tCAA\tGAG\tCTC\tATT\tGTC\tTGT\tTTT\tCCC\tCGA\tTAT\tAGA\tGGC\tTAA\tGCA\tAGC\tTCT\tCAT\tGGA\tAAT\tCGC\tTAA\tTAG\tTGT\tTTC\tGAA\tGTA\tATC\tGAC\tAGG\tTAT\tTGT\tATC\tCTG\tGAT\tTAA\tTAT\tTAG\tGGT\tGGC\tTCA\tTGC\tATG\tCTC\tGTG\tCAA\tTCG\tTAA\tCAA\tATA\tTGT\tCTT\tTCT\tTTT\tACG\tAAT\tTTT\tAAC\tGCT\tTCA\tATA\tTAA\tATC\tATA\tTTT\tTTC\tCTC\n",
      "c0_g1_i1-frame-3-codons\n",
      "ACT\tCCA\tAAA\tATG\tAAA\tACA\tTAG\tTAG\tCAA\tTCA\tAAG\tCAT\tCCC\tACT\tATT\tTTT\tTGT\tCTC\tTCG\tTTT\tCAT\tTAG\tCGT\tTGT\tAAA\tTTA\tCTG\tATA\tCCC\tTAC\tTAT\tACC\tTCT\tACA\tAGG\tCCT\tTTG\tTCA\tTCT\tTTT\tTAC\tTCA\tAGT\tGTG\tAAA\tTCA\tTCA\tCTT\tATT\tGTA\tTGA\tAGG\tATG\tAGC\tTTT\tCCG\tTTC\tGCT\tAGT\tTTG\tCTG\tAAA\tAGG\tCCT\tTCT\tGCA\tATA\tAGC\tTCT\tCTA\tTTA\tTCT\tTTA\tAAA\tAAA\tCCT\tGGT\tTCC\tTGG\tTCT\tTCC\tATT\tCTG\tCTA\tAAA\tGCT\tGTA\tGGG\tGTT\tTTA\tTCA\tCGA\tGAT\tTCC\tCGT\tTGG\tCAT\tTCT\tGAC\tTTA\tTTA\tAAA\tATG\tCTT\tACA\tGAA\tGAA\tATG\tGAT\tTCT\tTTA\tAAT\tGGT\tCAA\tATT\tAAT\tACG\tTGG\tACA\tGAT\tAAT\tAAT\tCCT\tTTA\tTTA\tGAT\tGAA\tATT\tACG\tAAG\tCCA\tTAC\tAGA\tAAA\tTCT\tTCA\tACT\tCGT\tTTT\tTTT\tCAT\tCCG\tCTT\tCTT\tGTA\tCTT\tCTA\tATG\tTCT\tAGA\tGCA\tTCA\tGTA\tAAT\tGGG\tGAT\tCCA\tCCG\tAGT\tCAG\tCAA\tCTA\tTTT\tCAA\tAGG\tTAC\tAAA\tCAA\tCTT\tGCC\tCGT\tGTA\tACA\tGAA\tTTG\tATT\tCAT\tGCT\tGCC\tAAT\tATA\tATT\tCAT\tATT\tAAT\tATT\tGGA\tGAA\tGAA\tCAA\tAGC\tAAC\tGAA\tCAG\tATT\tAAA\tCTT\tGCA\tACG\tTTG\tGTT\tGGA\tGAT\tTAT\tTTA\tCTC\tGGA\tAAG\tGCG\tTCT\tGTT\tGAT\tTTA\tGCA\tCAT\tTTA\tGAA\tAAC\tAAC\tGCT\tATT\tACA\tGAA\tATT\tATG\tGCT\tTCT\tGTT\tATT\tGCA\tAAC\tTTA\tGTT\tGAA\tGGG\tCAC\tTTC\tGGA\tAGC\tCGA\tCAA\tAAT\tGGC\tTCT\tGTT\tGGT\tTTG\tTCA\tAAC\tGAA\tCGA\tACC\tATC\tCTT\tCTG\tCAA\tTCA\tGCC\tTTT\tATG\tCCA\tGCA\tAAG\tGCA\tTGT\tTTA\tTGC\tGCA\tAGC\tATA\tTTG\tAAT\tAAC\tTCA\tTCA\tCAA\tTAC\tATT\tAAT\tGAT\tGCG\tTGT\tTTC\tAAT\tTAT\tGGA\tAAA\tTTT\tCTA\tGGC\tTTA\tTCG\tCTG\tCAA\tCTG\tGCC\tCAT\tAAG\tCCT\tGTA\tTCT\tCCT\tGAC\tGCC\tCAA\tGTT\tTTG\tCAA\tAAG\tAAT\tAAT\tGAC\tATT\tTTG\tAAA\tACA\tTAT\tGTT\tGAG\tAAT\tGCC\tAAG\tAGC\tTCA\tTTG\tTCT\tGTT\tTTC\tCCC\tGAT\tATA\tGAG\tGCT\tAAG\tCAA\tGCT\tCTC\tATG\tGAA\tATC\tGCT\tAAT\tAGT\tGTT\tTCG\tAAG\tTAA\tTCG\tACA\tGGT\tATT\tGTA\tTCC\tTGG\tATT\tAAT\tATT\tAGG\tGTG\tGCT\tCAT\tGCA\tTGC\tTCG\tTGC\tAAT\tCGT\tAAC\tAAA\tTAT\tGTC\tTTT\tCTT\tTTA\tCGA\tATT\tTTA\tACG\tCTT\tCAA\tTAT\tAAA\tTCA\tTAT\tTTT\tTCC\tTCA\n",
      "c1_g1_i1-frame-1-codons\n",
      "ACG\tAAA\tCGT\tTGA\tATT\tGAT\tTTT\tATA\tTCA\tATA\tATA\tTCG\tATC\tATT\tTTT\tATT\tCTA\tTTA\tTTT\tGTT\tTGT\tTTG\tCTT\tGGC\tTTT\tCAT\tCTA\tTTT\tCTA\tCAG\tACT\tATC\tTTT\tCCC\tTAA\tTGT\tCTA\tTTG\tCAA\tAAG\tGAA\tAAA\tATG\tCAT\tTGC\tTTG\tTTG\tCCA\tGCA\tGTT\tATT\tATG\tGCC\tCAT\tTTT\tATC\tCAG\tATG\tGTA\tAAA\tACA\tCTG\tGAG\tTCC\tATT\tTTT\tCAG\tAGC\tTTT\tTAA\tTCC\tCTT\tACA\tATG\tTTT\tTCA\tAAA\tAAG\tCAG\tGTT\tTTA\tACG\tTGC\tAAT\tTCG\tTTT\tCAG\tAAA\tATG\tGCT\tCTT\tACA\tAAT\tTTG\tACG\tATC\tATT\tCCA\tTTG\tAGG\tAGT\tCAA\tAAT\tTAG\tGGG\tACT\tTTG\tAAA\tGAA\tAAG\tTAT\tTTA\tATG\tATA\tAAA\tACG\tACG\tATT\tTTT\tGGA\tCTA\tATC\tTTA\tACA\tATA\tTGA\tAAA\tAGG\tCTT\tCGG\tACA\tTAG\tTTG\tGAA\tAAG\tACT\tATC\tAGC\tTTT\tTAT\tTTG\tTGG\tCAG\tGTG\tGGC\tATG\tCTG\tCGA\tTGT\tTTG\tACT\tTAC\tCCA\tAAG\tCCA\tCGA\tATT\tTAC\tAGG\tCGG\n",
      "c1_g1_i1-frame-2-codons\n",
      "CGA\tAAC\tGTT\tGAA\tTTG\tATT\tTTA\tTAT\tCAA\tTAA\tTAT\tCGA\tTCA\tTTT\tTTA\tTTC\tTAT\tTAT\tTTG\tTTT\tGTT\tTGC\tTTG\tGCT\tTTC\tATC\tTAT\tTTC\tTAC\tAGA\tCTA\tTCT\tTTC\tCCT\tAAT\tGTC\tTAT\tTGC\tAAA\tAGG\tAAA\tAAA\tTGC\tATT\tGCT\tTGT\tTGC\tCAG\tCAG\tTTA\tTTA\tTGG\tCCC\tATT\tTTA\tTCC\tAGA\tTGG\tTAA\tAAA\tCAC\tTGG\tAGT\tCCA\tTTT\tTTC\tAGA\tGCT\tTTT\tAAT\tCCC\tTTA\tCAA\tTGT\tTTT\tCAA\tAAA\tAGC\tAGG\tTTT\tTAA\tCGT\tGCA\tATT\tCGT\tTTC\tAGA\tAAA\tTGG\tCTC\tTTA\tCAA\tATT\tTGA\tCGA\tTCA\tTTC\tCAT\tTGA\tGGA\tGTC\tAAA\tATT\tAGG\tGGA\tCTT\tTGA\tAAG\tAAA\tAGT\tATT\tTAA\tTGA\tTAA\tAAA\tCGA\tCGA\tTTT\tTTG\tGAC\tTAA\tTCT\tTAA\tCAA\tTAT\tGAA\tAAA\tGGC\tTTC\tGGA\tCAT\tAGT\tTGG\tAAA\tAGA\tCTA\tTCA\tGCT\tTTT\tATT\tTGT\tGGC\tAGG\tTGG\tGCA\tTGC\tTGC\tGAT\tGTT\tTGA\tCTT\tACC\tCAA\tAGC\tCAC\tGAA\tTTT\tACA\tGGC\n",
      "c1_g1_i1-frame-3-codons\n",
      "GAA\tACG\tTTG\tAAT\tTGA\tTTT\tTAT\tATC\tAAT\tAAT\tATC\tGAT\tCAT\tTTT\tTAT\tTCT\tATT\tATT\tTGT\tTTG\tTTT\tGCT\tTGG\tCTT\tTCA\tTCT\tATT\tTCT\tACA\tGAC\tTAT\tCTT\tTCC\tCTA\tATG\tTCT\tATT\tGCA\tAAA\tGGA\tAAA\tAAT\tGCA\tTTG\tCTT\tGTT\tGCC\tAGC\tAGT\tTAT\tTAT\tGGC\tCCA\tTTT\tTAT\tCCA\tGAT\tGGT\tAAA\tAAC\tACT\tGGA\tGTC\tCAT\tTTT\tTCA\tGAG\tCTT\tTTA\tATC\tCCT\tTAC\tAAT\tGTT\tTTC\tAAA\tAAA\tGCA\tGGT\tTTT\tAAC\tGTG\tCAA\tTTC\tGTT\tTCA\tGAA\tAAT\tGGC\tTCT\tTAC\tAAA\tTTT\tGAC\tGAT\tCAT\tTCC\tATT\tGAG\tGAG\tTCA\tAAA\tTTA\tGGG\tGAC\tTTT\tGAA\tAGA\tAAA\tGTA\tTTT\tAAT\tGAT\tAAA\tAAC\tGAC\tGAT\tTTT\tTGG\tACT\tAAT\tCTT\tAAC\tAAT\tATG\tAAA\tAAG\tGCT\tTCG\tGAC\tATA\tGTT\tGGA\tAAA\tGAC\tTAT\tCAG\tCTT\tTTA\tTTT\tGTG\tGCA\tGGT\tGGG\tCAT\tGCT\tGCG\tATG\tTTT\tGAC\tTTA\tCCC\tAAA\tGCC\tACG\tAAT\tTTA\tCAG\tGCG\n"
     ]
    }
   ],
   "source": [
    "codon_dict ={}\n",
    "outfh = open(\"Python_08.codons-frame-3.nt\", \"w\")\n",
    "\n",
    "for k, v in dict.items():\n",
    "    header1 = k+\"-frame-1-codons\"\n",
    "    header2 = k+\"-frame-2-codons\"\n",
    "    header3 = k+\"-frame-3-codons\"\n",
    "    \n",
    "    #get codons and make sure its 3 nt\n",
    "    codon_dict[header1] = [v[i:i+3] for i in range(0, len(v), 3) if (len(v)- i) >= 3]\n",
    "    codon_dict[header2] = [v[i:i+3] for i in range(1, len(v), 3) if (len(v)- i) >= 3]\n",
    "    codon_dict[header3] = [v[i:i+3] for i in range(2, len(v), 3) if (len(v)- i) >= 3]\n",
    "\n",
    "    #write to file\n",
    "    outfh.write(header1 + \"\\n\")\n",
    "    outfh.write(\"\\t\".join(codon_dict[header1]))\n",
    "    outfh.write(\"\\n\" + header2 + \"\\n\")\n",
    "    outfh.write(\"\\t\".join(codon_dict[header2]))\n",
    "    outfh.write(\"\\n\" + header3 + \"\\n\")\n",
    "    outfh.write(\"\\t\".join(codon_dict[header3]))\n",
    "    outfh.write(\"\\n\")\n",
    "    \n",
    "    #print to stdout\n",
    "    print(header1)\n",
    "    print(\"\\t\".join(codon_dict[header1]))\n",
    "    print(header2)\n",
    "    print(\"\\t\".join(codon_dict[header2]))\n",
    "    print(header3)\n",
    "    print(\"\\t\".join(codon_dict[header3]))\n",
    "outfh.close()"
   ]
  },
  {
   "cell_type": "markdown",
   "metadata": {},
   "source": [
    "####5.Now reverse complement each sequence and print out all six reading frames to a file called 'Python_08.codons-6frames.nt'"
   ]
  },
  {
   "cell_type": "code",
   "execution_count": 12,
   "metadata": {
    "collapsed": true
   },
   "outputs": [],
   "source": [
    "#initialize new dictionary that will be nested\n",
    "fw_rev_dict = {}\n",
    "for k, v in dict.items():\n",
    "    reverse = v[::-1]\n",
    "    fw_rev_dict[k] = {k+\"_fw\": v, k+\"_rev\":reverse}\n",
    "\n",
    "fw_rev_codons= {}\n",
    "outfh = open(\"Python_08.codons-frame-6.nt\", \"w\")\n",
    "for k, v in fw_rev_dict.items():\n",
    "\n",
    "    fw1 = k+\"_fw-frame-1-codons\"\n",
    "    fw2 = k+\"_fw-frame-2-codons\"\n",
    "    fw3 = k+\"_fw-frame-3-codons\"\n",
    "\n",
    "    fw_rev_codons[fw1] = [v[k+\"_fw\"][i:i+3] for i in range(0, len(v[k+\"_fw\"]), 3) if (len(v[k+\"_fw\"])- i) >= 3]\n",
    "    fw_rev_codons[fw2] = [v[k+\"_fw\"][i:i+3] for i in range(1, len(v[k+\"_fw\"]), 3) if (len(v[k+\"_fw\"])- i) >= 3]\n",
    "    fw_rev_codons[fw3] = [v[k+\"_fw\"][i:i+3] for i in range(2, len(v[k+\"_fw\"]), 3) if (len(v[k+\"_fw\"])- i) >= 3]\n",
    "\n",
    "    rev1 = k+\"_rev-frame-1-codons\"\n",
    "    rev2 = k+\"_rev-frame-2-codons\"\n",
    "    rev3 = k+\"_rev-frame-3-codons\"\n",
    "\n",
    "    fw_rev_codons[rev1] = [v[k+\"_rev\"][i:i+3] for i in range(0, len(v[k+\"_fw\"]), 3) if (len(v[k+\"_fw\"])- i) >= 3]\n",
    "    fw_rev_codons[rev2] = [v[k+\"_rev\"][i:i+3] for i in range(1, len(v[k+\"_fw\"]), 3) if (len(v[k+\"_fw\"])- i) >= 3]\n",
    "    fw_rev_codons[rev3] = [v[k+\"_rev\"][i:i+3] for i in range(2, len(v[k+\"_fw\"]), 3) if (len(v[k+\"_fw\"])- i) >= 3]\n",
    "    outfh.write(fw1 + \"\\n\")\n",
    "    outfh.write(\"\\t\".join(fw_rev_codons[fw1]))\n",
    "    outfh.write(\"\\n\" + fw2 + \"\\n\")\n",
    "    outfh.write(\"\\t\".join(fw_rev_codons[fw2]))\n",
    "    outfh.write(\"\\n\" + fw3 + \"\\n\")\n",
    "    outfh.write(\"\\t\".join(fw_rev_codons[fw3]))\n",
    "    outfh.write(\"\\n\" + rev1 + \"\\n\")\n",
    "    outfh.write(\"\\t\".join(fw_rev_codons[rev1]))\n",
    "    outfh.write(\"\\n\" + rev2 + \"\\n\")\n",
    "    outfh.write(\"\\t\".join(fw_rev_codons[rev2]))\n",
    "    outfh.write(\"\\n\" + rev3 + \"\\n\")\n",
    "    outfh.write(\"\\t\".join(fw_rev_codons[rev3]))\n",
    "    outfh.write(\"\\n\")\n",
    "outfh.close()"
   ]
  },
  {
   "cell_type": "markdown",
   "metadata": {},
   "source": [
    "####6. Translate each of the six reading frames into amino acids. Create one file for which you print the six reading frames (Python_08.codons-6frames.nt) and one file for which you print the translation of the six reading frames (Python_08.translated.aa)."
   ]
  },
  {
   "cell_type": "code",
   "execution_count": 13,
   "metadata": {
    "collapsed": true
   },
   "outputs": [],
   "source": [
    "def translate_dna_to_aa(sequence): #sequence = list of codons\n",
    "\n",
    "    codontable = {\n",
    "    'ATA':'I', 'ATC':'I', 'ATT':'I', 'ATG':'M',\n",
    "    'ACA':'T', 'ACC':'T', 'ACG':'T', 'ACT':'T',\n",
    "    'AAC':'N', 'AAT':'N', 'AAA':'K', 'AAG':'K',\n",
    "    'AGC':'S', 'AGT':'S', 'AGA':'R', 'AGG':'R',\n",
    "    'CTA':'L', 'CTC':'L', 'CTG':'L', 'CTT':'L',\n",
    "    'CCA':'P', 'CCC':'P', 'CCG':'P', 'CCT':'P',\n",
    "    'CAC':'H', 'CAT':'H', 'CAA':'Q', 'CAG':'Q',\n",
    "    'CGA':'R', 'CGC':'R', 'CGG':'R', 'CGT':'R',\n",
    "    'GTA':'V', 'GTC':'V', 'GTG':'V', 'GTT':'V',\n",
    "    'GCA':'A', 'GCC':'A', 'GCG':'A', 'GCT':'A',\n",
    "    'GAC':'D', 'GAT':'D', 'GAA':'E', 'GAG':'E',\n",
    "    'GGA':'G', 'GGC':'G', 'GGG':'G', 'GGT':'G',\n",
    "    'TCA':'S', 'TCC':'S', 'TCG':'S', 'TCT':'S',\n",
    "    'TTC':'F', 'TTT':'F', 'TTA':'L', 'TTG':'L',\n",
    "    'TAC':'Y', 'TAT':'Y', 'TAA':'_', 'TAG':'_',\n",
    "    'TGC':'C', 'TGT':'C', 'TGA':'_', 'TGG':'W',\n",
    "    }\n",
    "    proteinsequence = \"\"\n",
    "    for codon in sequence:\n",
    "        if codon in codontable:\n",
    "            proteinsequence += codontable[codon]\n",
    "    sequence = \"\"\n",
    "    return proteinsequence\n",
    "\n",
    "#make outfile\n",
    "outfh = open(\"Python_08.translated.aa\", \"w\")\n",
    "\n",
    "#loop through dictionary\n",
    "for k in fw_rev_codons:\n",
    "    outfh.write(k+\"\\n\")\n",
    "    sequence = fw_rev_codons[k]\n",
    "    prot_seq = translate_dna_to_aa(sequence) #calls translate function\n",
    "    outfh.write(prot_seq)\n",
    "    outfh.write(\"\\n\")\n",
    "\n",
    "#close outfile\n",
    "outfh.close()\n"
   ]
  },
  {
   "cell_type": "markdown",
   "metadata": {},
   "source": [
    "####7. Find the longest peptide sequence (M-->Stop) of all the six translated reading frames for a single sequence. Do this for all the sequence records. For each sequence, print out in FASTA format the six frames of codons to one file (Python_08.codons-6frames.nt), the translations to a second file (Python_08.translated.aa), and the single longest translated peptide to a third file (Python_08.translated-longest.aa)."
   ]
  },
  {
   "cell_type": "code",
   "execution_count": 20,
   "metadata": {
    "collapsed": true
   },
   "outputs": [],
   "source": [
    "import re\n",
    "\n",
    "outfh = open(\"Python_08.translated.aa\", \"w\")\n",
    "outfh2 = open(\"Python_08.translated-longest.aa\", \"w\")\n",
    "\n",
    "for k in fw_rev_codons:\n",
    "    outfh.write(k+\"\\n\")\n",
    "    sequence = fw_rev_codons[k]\n",
    "    prot_seq = translate_dna_to_aa(sequence) #calls translate function\n",
    "    outfh.write(prot_seq)\n",
    "    outfh.write(\"\\n\")\n",
    "\n",
    "    # get the longest match\n",
    "    longest_match = \"\"\n",
    "    outfh2.write(k+\"\\n\")\n",
    "    for match in re.finditer(r\"M.*?_\", prot_seq):\n",
    "        stop = int(match.end())\n",
    "        start = int(match.start())\n",
    "        if (stop - start) > len(longest_match): #check length\n",
    "            longest_match = match.group() #if longer, rewrite\n",
    "outfh2.write(longest_match+\"\\n\") #watch out for indentation! this has to be outside the previous loop\n",
    "\n",
    "outfh.close()\n",
    "outfh2.close()\n"
   ]
  },
  {
   "cell_type": "markdown",
   "metadata": {},
   "source": [
    "####8. Finally determine which subset of codons produced the longest peptide for each sequence record. Print this to a fourth file in FASTA format (Python_08.orf-longest.nt)."
   ]
  },
  {
   "cell_type": "code",
   "execution_count": null,
   "metadata": {
    "collapsed": true
   },
   "outputs": [],
   "source": [
    "import re\n",
    "\n",
    "outfh = open(\"Python_08.translated.aa\", \"w\")\n",
    "outfh2 = open(\"Python_08.translated-longest.aa\", \"w\")\n",
    "outfh3 = open(\"Python_08.orf-longest.nt\", \"w\")\n",
    "\n",
    "for k in fw_rev_codons:\n",
    "    outfh.write(k+\"\\n\")\n",
    "    sequence = fw_rev_codons[k]\n",
    "    prot_seq = translate_dna_to_aa(sequence)\n",
    "    outfh.write(prot_seq)\n",
    "    outfh.write(\"\\n\")\n",
    "\n",
    "    longest_match = \"\"\n",
    "    outfh2.write(k+\"\\n\")\n",
    "    for match in re.finditer(r\"M.*?_\", prot_seq):\n",
    "        stop = int(match.end())\n",
    "        start = int(match.start())\n",
    "        if (stop - start) > len(longest_match):\n",
    "            longest_match = match.group()\n",
    "            stop = int(match.end()) #get the NEW end\n",
    "            start = int(match.start()) #get updated start\n",
    "            \n",
    "            joined = \"\".join(sequence) #gets codons in a string, not list\n",
    "            \n",
    "            outfh3.write(k + \"\\n\") #write key\n",
    "            outfh3.write(joined[start*3:(stop*3)]) #write orf\n",
    "            outfh3.write(\"\\n\")\n",
    "\n",
    "        outfh2.write(longest_match+\"\\n\")\n",
    " \n",
    "\n",
    "outfh.close()\n",
    "outfh2.close()\n",
    "outfh3.close()"
   ]
  }
 ],
 "metadata": {
  "kernelspec": {
   "display_name": "Python 3",
   "language": "python",
   "name": "python3"
  },
  "language_info": {
   "codemirror_mode": {
    "name": "ipython",
    "version": 3
   },
   "file_extension": ".py",
   "mimetype": "text/x-python",
   "name": "python",
   "nbconvert_exporter": "python",
   "pygments_lexer": "ipython3",
   "version": "3.6.2"
  }
 },
 "nbformat": 4,
 "nbformat_minor": 2
}
